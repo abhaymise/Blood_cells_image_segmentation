{
  "nbformat": 4,
  "nbformat_minor": 0,
  "metadata": {
    "colab": {
      "provenance": [],
      "authorship_tag": "ABX9TyN8a0XPQTfMclRyEo3nxwU4",
      "include_colab_link": true
    },
    "kernelspec": {
      "name": "python3",
      "display_name": "Python 3"
    },
    "language_info": {
      "name": "python"
    }
  },
  "cells": [
    {
      "cell_type": "markdown",
      "metadata": {
        "id": "view-in-github",
        "colab_type": "text"
      },
      "source": [
        "<a href=\"https://colab.research.google.com/github/abhaymise/Blood_cells_image_segmentation/blob/master/ai/phased_fine_tuning_imagenet_models_pytorch.ipynb\" target=\"_parent\"><img src=\"https://colab.research.google.com/assets/colab-badge.svg\" alt=\"Open In Colab\"/></a>"
      ]
    },
    {
      "cell_type": "code",
      "execution_count": null,
      "metadata": {
        "id": "N1aYPkeiF1ng"
      },
      "outputs": [],
      "source": []
    },
    {
      "cell_type": "code",
      "source": [],
      "metadata": {
        "id": "K2GDYJT5G87W"
      },
      "execution_count": null,
      "outputs": []
    },
    {
      "cell_type": "code",
      "source": [
        "import torch\n",
        "import torchvision.models as models\n",
        "from torchvision import transforms\n",
        "from torch.utils.data import DataLoader, random_split\n",
        "from torchvision.datasets import CIFAR10\n",
        "import torch.nn as nn\n",
        "import torch.optim as optim\n",
        "\n",
        "\n",
        "# Data preprocessing and loading\n",
        "transform = transforms.Compose([\n",
        "    transforms.Resize(256),\n",
        "    transforms.CenterCrop(224),\n",
        "    transforms.ToTensor(),\n",
        "    transforms.Normalize(mean=[0.485, 0.456, 0.406],\n",
        "                         std=[0.229, 0.224, 0.225]),\n",
        "])\n",
        "\n",
        "# Assume you have a dataset (CIFAR-10 in this case)\n",
        "dataset = CIFAR10(root='./data', train=True, download=True, transform=transform)\n",
        "train_size = int(0.8 * len(dataset))\n",
        "val_size = len(dataset) - train_size\n",
        "train_dataset, val_dataset = random_split(dataset, [train_size, val_size])\n",
        "\n",
        "train_dataloader = DataLoader(train_dataset, batch_size=32, shuffle=True)\n",
        "val_dataloader = DataLoader(val_dataset, batch_size=32, shuffle=False)\n",
        "\n",
        "\n",
        "# Load pre-trained ResNet model\n",
        "model = models.resnet18(pretrained=True)\n",
        "\n",
        "# Freeze the initial layers\n",
        "for param in model.parameters():\n",
        "    param.requires_grad = False\n",
        "\n",
        "# Modify the last fully connected layer for the number of classes in your task\n",
        "num_classes = 10  # CIFAR-10 has 10 classes\n",
        "model.fc = nn.Linear(model.fc.in_features, num_classes)\n",
        "\n",
        "\n",
        "# Define loss function and optimizer\n",
        "criterion = nn.CrossEntropyLoss()\n",
        "optimizer = optim.SGD(model.parameters(), lr=0.001, momentum=0.9)\n",
        "\n",
        "# Function to unfreeze specified layers\n",
        "def unfreeze_layers(model, start_layer, end_layer):\n",
        "    for i, param in enumerate(model.parameters()):\n",
        "        if start_layer <= i <= end_layer:\n",
        "            param.requires_grad = True\n",
        "\n",
        "def evaluate_model(model,val_dataloader):\n",
        "  # Evaluate on the validation set\n",
        "  model.eval()\n",
        "  with torch.no_grad():\n",
        "      correct = 0\n",
        "      total = 0\n",
        "      for inputs, labels in val_dataloader:\n",
        "          outputs = model(inputs)\n",
        "          _, predicted = torch.max(outputs, 1)\n",
        "          total += labels.size(0)\n",
        "          correct += (predicted == labels).sum().item()\n",
        "  accuracy = correct / total\n",
        "  print(f'Accuracy on the validation set: {accuracy * 100:.2f}%')\n",
        "\n",
        "def train_model(model,train_dataloader,optimizer,criterion,\n",
        "                num_epochs):\n",
        "  model.train()\n",
        "  for epoch in range(num_epochs):\n",
        "    # model.train()\n",
        "    for inputs, labels in train_dataloader:\n",
        "        optimizer.zero_grad()\n",
        "        outputs = model(inputs)\n",
        "        loss = criterion(outputs, labels)\n",
        "        loss.backward()\n",
        "        optimizer.step()\n",
        "\n",
        "# Training loop\n",
        "num_epochs = 5\n",
        "\n",
        "# Phase 1: Train only the last layer\n",
        "train_model(model,train_dataloader,optimizer,criterion,\n",
        "                num_epochs)\n",
        "\n",
        "evaluate_model(model,val_dataloader)\n",
        "# Phase 2: Unfreeze some more layers and continue training\n",
        "unfreeze_layers(model, 6, 10)  # Unfreeze layers 6 to 10\n",
        "\n",
        "train_model(model,train_dataloader,optimizer,criterion,\n",
        "                num_epochs)\n",
        "evaluate_model(model,val_dataloader)\n",
        "\n",
        "# Phase 3: Unfreeze all layers and fine-tune\n",
        "unfreeze_layers(model, 0, 10)  # Unfreeze all layers\n",
        "\n",
        "train_model(model,train_dataloader,optimizer,criterion,\n",
        "                num_epochs)\n",
        "\n",
        "evaluate_model(model,val_dataloader)\n",
        "\n",
        "# Fine-tune all layers for a few more epochs\n",
        "for param in model.parameters():\n",
        "    param.requires_grad = True\n",
        "\n",
        "train_model(model,train_dataloader,optimizer,criterion,\n",
        "                num_epochs)\n",
        "evaluate_model(model,val_dataloader)\n",
        "\n",
        "# Freeze all layers except the named onne\n",
        "for name, param in model.named_parameters():\n",
        "    if name not in ['classifier.3.weight', 'classifier.3.bias', 'classifier.4.weight', 'classifier.4.bias']:\n",
        "        param.requires_grad = False\n",
        "\n",
        "train_model(model,train_dataloader,optimizer,criterion,\n",
        "                num_epochs)\n",
        "evaluate_model(model,val_dataloader)"
      ],
      "metadata": {
        "id": "YcCElW5dHi8W"
      },
      "execution_count": null,
      "outputs": []
    },
    {
      "cell_type": "code",
      "source": [],
      "metadata": {
        "id": "MiDhBC1KHkAL"
      },
      "execution_count": null,
      "outputs": []
    },
    {
      "cell_type": "code",
      "source": [],
      "metadata": {
        "id": "7mXndLQ5GqZG"
      },
      "execution_count": null,
      "outputs": []
    },
    {
      "cell_type": "code",
      "source": [],
      "metadata": {
        "id": "eyqnJKhBGvao"
      },
      "execution_count": null,
      "outputs": []
    },
    {
      "cell_type": "code",
      "source": [],
      "metadata": {
        "id": "SHlagcl6G-Pg"
      },
      "execution_count": null,
      "outputs": []
    }
  ]
}